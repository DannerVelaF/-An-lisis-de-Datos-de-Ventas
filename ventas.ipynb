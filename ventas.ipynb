{
 "cells": [
  {
   "cell_type": "markdown",
   "id": "373c178d",
   "metadata": {},
   "source": [
    "### 1. Importar librerías y carga de datos"
   ]
  },
  {
   "cell_type": "code",
   "execution_count": null,
   "id": "b604d10d",
   "metadata": {},
   "outputs": [],
   "source": [
    "# Manejo de datos\n",
    "import pandas as pd\n",
    "\n",
    "\n",
    "# Graficación\n",
    "import matplotlib.pyplot as plt\n",
    "import seaborn as sns\n",
    "import plotly.express as px\n",
    "\n",
    "# Estilo de seaborn\n",
    "sns.set(style=\"whitegrid\")\n",
    "\n",
    "plt.rcParams['figure.figsize'] = (10, 6)\n",
    "\n",
    "# Formato linear, no cientifico\n",
    "plt.rcParams['axes.formatter.useoffset'] = False"
   ]
  },
  {
   "cell_type": "markdown",
   "id": "6bf1938e",
   "metadata": {},
   "source": [
    "### 2. Carga de datos"
   ]
  },
  {
   "cell_type": "code",
   "execution_count": 5,
   "id": "b2dd9a5a",
   "metadata": {},
   "outputs": [],
   "source": [
    "sales_df = pd.read_csv('Sales Dataset.csv')"
   ]
  },
  {
   "cell_type": "markdown",
   "id": "11862ab8",
   "metadata": {},
   "source": [
    "### 3. Exploracion inicial de datos"
   ]
  },
  {
   "cell_type": "code",
   "execution_count": 6,
   "id": "6f0cca2e",
   "metadata": {},
   "outputs": [
    {
     "data": {
      "application/vnd.microsoft.datawrangler.viewer.v0+json": {
       "columns": [
        {
         "name": "index",
         "rawType": "int64",
         "type": "integer"
        },
        {
         "name": "Order ID",
         "rawType": "object",
         "type": "string"
        },
        {
         "name": "Amount",
         "rawType": "int64",
         "type": "integer"
        },
        {
         "name": "Profit",
         "rawType": "int64",
         "type": "integer"
        },
        {
         "name": "Quantity",
         "rawType": "int64",
         "type": "integer"
        },
        {
         "name": "Category",
         "rawType": "object",
         "type": "string"
        },
        {
         "name": "Sub-Category",
         "rawType": "object",
         "type": "string"
        },
        {
         "name": "PaymentMode",
         "rawType": "object",
         "type": "string"
        },
        {
         "name": "Order Date",
         "rawType": "object",
         "type": "string"
        },
        {
         "name": "CustomerName",
         "rawType": "object",
         "type": "string"
        },
        {
         "name": "State",
         "rawType": "object",
         "type": "string"
        },
        {
         "name": "City",
         "rawType": "object",
         "type": "string"
        },
        {
         "name": "Year-Month",
         "rawType": "object",
         "type": "string"
        }
       ],
       "ref": "a577b940-f26d-4745-82da-6a4bebcbdafe",
       "rows": [
        [
         "0",
         "B-26776",
         "9726",
         "1275",
         "5",
         "Electronics",
         "Electronic Games",
         "UPI",
         "2023-06-27",
         "David Padilla",
         "Florida",
         "Miami",
         "2023-06"
        ],
        [
         "1",
         "B-26776",
         "9726",
         "1275",
         "5",
         "Electronics",
         "Electronic Games",
         "UPI",
         "2024-12-27",
         "Connor Morgan",
         "Illinois",
         "Chicago",
         "2024-12"
        ],
        [
         "2",
         "B-26776",
         "9726",
         "1275",
         "5",
         "Electronics",
         "Electronic Games",
         "UPI",
         "2021-07-25",
         "Robert Stone",
         "New York",
         "Buffalo",
         "2021-07"
        ],
        [
         "3",
         "B-26776",
         "4975",
         "1330",
         "14",
         "Electronics",
         "Printers",
         "UPI",
         "2023-06-27",
         "David Padilla",
         "Florida",
         "Miami",
         "2023-06"
        ],
        [
         "4",
         "B-26776",
         "4975",
         "1330",
         "14",
         "Electronics",
         "Printers",
         "UPI",
         "2024-12-27",
         "Connor Morgan",
         "Illinois",
         "Chicago",
         "2024-12"
        ]
       ],
       "shape": {
        "columns": 12,
        "rows": 5
       }
      },
      "text/html": [
       "<div>\n",
       "<style scoped>\n",
       "    .dataframe tbody tr th:only-of-type {\n",
       "        vertical-align: middle;\n",
       "    }\n",
       "\n",
       "    .dataframe tbody tr th {\n",
       "        vertical-align: top;\n",
       "    }\n",
       "\n",
       "    .dataframe thead th {\n",
       "        text-align: right;\n",
       "    }\n",
       "</style>\n",
       "<table border=\"1\" class=\"dataframe\">\n",
       "  <thead>\n",
       "    <tr style=\"text-align: right;\">\n",
       "      <th></th>\n",
       "      <th>Order ID</th>\n",
       "      <th>Amount</th>\n",
       "      <th>Profit</th>\n",
       "      <th>Quantity</th>\n",
       "      <th>Category</th>\n",
       "      <th>Sub-Category</th>\n",
       "      <th>PaymentMode</th>\n",
       "      <th>Order Date</th>\n",
       "      <th>CustomerName</th>\n",
       "      <th>State</th>\n",
       "      <th>City</th>\n",
       "      <th>Year-Month</th>\n",
       "    </tr>\n",
       "  </thead>\n",
       "  <tbody>\n",
       "    <tr>\n",
       "      <th>0</th>\n",
       "      <td>B-26776</td>\n",
       "      <td>9726</td>\n",
       "      <td>1275</td>\n",
       "      <td>5</td>\n",
       "      <td>Electronics</td>\n",
       "      <td>Electronic Games</td>\n",
       "      <td>UPI</td>\n",
       "      <td>2023-06-27</td>\n",
       "      <td>David Padilla</td>\n",
       "      <td>Florida</td>\n",
       "      <td>Miami</td>\n",
       "      <td>2023-06</td>\n",
       "    </tr>\n",
       "    <tr>\n",
       "      <th>1</th>\n",
       "      <td>B-26776</td>\n",
       "      <td>9726</td>\n",
       "      <td>1275</td>\n",
       "      <td>5</td>\n",
       "      <td>Electronics</td>\n",
       "      <td>Electronic Games</td>\n",
       "      <td>UPI</td>\n",
       "      <td>2024-12-27</td>\n",
       "      <td>Connor Morgan</td>\n",
       "      <td>Illinois</td>\n",
       "      <td>Chicago</td>\n",
       "      <td>2024-12</td>\n",
       "    </tr>\n",
       "    <tr>\n",
       "      <th>2</th>\n",
       "      <td>B-26776</td>\n",
       "      <td>9726</td>\n",
       "      <td>1275</td>\n",
       "      <td>5</td>\n",
       "      <td>Electronics</td>\n",
       "      <td>Electronic Games</td>\n",
       "      <td>UPI</td>\n",
       "      <td>2021-07-25</td>\n",
       "      <td>Robert Stone</td>\n",
       "      <td>New York</td>\n",
       "      <td>Buffalo</td>\n",
       "      <td>2021-07</td>\n",
       "    </tr>\n",
       "    <tr>\n",
       "      <th>3</th>\n",
       "      <td>B-26776</td>\n",
       "      <td>4975</td>\n",
       "      <td>1330</td>\n",
       "      <td>14</td>\n",
       "      <td>Electronics</td>\n",
       "      <td>Printers</td>\n",
       "      <td>UPI</td>\n",
       "      <td>2023-06-27</td>\n",
       "      <td>David Padilla</td>\n",
       "      <td>Florida</td>\n",
       "      <td>Miami</td>\n",
       "      <td>2023-06</td>\n",
       "    </tr>\n",
       "    <tr>\n",
       "      <th>4</th>\n",
       "      <td>B-26776</td>\n",
       "      <td>4975</td>\n",
       "      <td>1330</td>\n",
       "      <td>14</td>\n",
       "      <td>Electronics</td>\n",
       "      <td>Printers</td>\n",
       "      <td>UPI</td>\n",
       "      <td>2024-12-27</td>\n",
       "      <td>Connor Morgan</td>\n",
       "      <td>Illinois</td>\n",
       "      <td>Chicago</td>\n",
       "      <td>2024-12</td>\n",
       "    </tr>\n",
       "  </tbody>\n",
       "</table>\n",
       "</div>"
      ],
      "text/plain": [
       "  Order ID  Amount  Profit  Quantity     Category      Sub-Category  \\\n",
       "0  B-26776    9726    1275         5  Electronics  Electronic Games   \n",
       "1  B-26776    9726    1275         5  Electronics  Electronic Games   \n",
       "2  B-26776    9726    1275         5  Electronics  Electronic Games   \n",
       "3  B-26776    4975    1330        14  Electronics          Printers   \n",
       "4  B-26776    4975    1330        14  Electronics          Printers   \n",
       "\n",
       "  PaymentMode  Order Date   CustomerName     State     City Year-Month  \n",
       "0         UPI  2023-06-27  David Padilla   Florida    Miami    2023-06  \n",
       "1         UPI  2024-12-27  Connor Morgan  Illinois  Chicago    2024-12  \n",
       "2         UPI  2021-07-25   Robert Stone  New York  Buffalo    2021-07  \n",
       "3         UPI  2023-06-27  David Padilla   Florida    Miami    2023-06  \n",
       "4         UPI  2024-12-27  Connor Morgan  Illinois  Chicago    2024-12  "
      ]
     },
     "execution_count": 6,
     "metadata": {},
     "output_type": "execute_result"
    }
   ],
   "source": [
    "# Imprimir las 5 primeras filas del DataFrame\n",
    "sales_df.head()"
   ]
  },
  {
   "cell_type": "code",
   "execution_count": 7,
   "id": "7164ca63",
   "metadata": {},
   "outputs": [
    {
     "name": "stdout",
     "output_type": "stream",
     "text": [
      "<class 'pandas.core.frame.DataFrame'>\n",
      "RangeIndex: 1194 entries, 0 to 1193\n",
      "Data columns (total 12 columns):\n",
      " #   Column        Non-Null Count  Dtype \n",
      "---  ------        --------------  ----- \n",
      " 0   Order ID      1194 non-null   object\n",
      " 1   Amount        1194 non-null   int64 \n",
      " 2   Profit        1194 non-null   int64 \n",
      " 3   Quantity      1194 non-null   int64 \n",
      " 4   Category      1194 non-null   object\n",
      " 5   Sub-Category  1194 non-null   object\n",
      " 6   PaymentMode   1194 non-null   object\n",
      " 7   Order Date    1194 non-null   object\n",
      " 8   CustomerName  1194 non-null   object\n",
      " 9   State         1194 non-null   object\n",
      " 10  City          1194 non-null   object\n",
      " 11  Year-Month    1194 non-null   object\n",
      "dtypes: int64(3), object(9)\n",
      "memory usage: 112.1+ KB\n"
     ]
    }
   ],
   "source": [
    "# Resumen del dataframe\n",
    "sales_df.info()"
   ]
  },
  {
   "cell_type": "code",
   "execution_count": 8,
   "id": "ed73ac03",
   "metadata": {},
   "outputs": [
    {
     "data": {
      "application/vnd.microsoft.datawrangler.viewer.v0+json": {
       "columns": [
        {
         "name": "index",
         "rawType": "object",
         "type": "string"
        },
        {
         "name": "Amount",
         "rawType": "float64",
         "type": "float"
        },
        {
         "name": "Profit",
         "rawType": "float64",
         "type": "float"
        },
        {
         "name": "Quantity",
         "rawType": "float64",
         "type": "float"
        }
       ],
       "ref": "7e328f71-2185-4971-b5e8-726f2fa325c8",
       "rows": [
        [
         "count",
         "1194.0",
         "1194.0",
         "1194.0"
        ],
        [
         "mean",
         "5178.089614740368",
         "1348.9924623115578",
         "10.674204355108877"
        ],
        [
         "std",
         "2804.921955187893",
         "1117.992572529659",
         "5.777102059828168"
        ],
        [
         "min",
         "508.0",
         "50.0",
         "1.0"
        ],
        [
         "25%",
         "2799.0",
         "410.0",
         "6.0"
        ],
        [
         "50%",
         "5152.0",
         "1014.0",
         "11.0"
        ],
        [
         "75%",
         "7626.0",
         "2035.0",
         "16.0"
        ],
        [
         "max",
         "9992.0",
         "4930.0",
         "20.0"
        ]
       ],
       "shape": {
        "columns": 3,
        "rows": 8
       }
      },
      "text/html": [
       "<div>\n",
       "<style scoped>\n",
       "    .dataframe tbody tr th:only-of-type {\n",
       "        vertical-align: middle;\n",
       "    }\n",
       "\n",
       "    .dataframe tbody tr th {\n",
       "        vertical-align: top;\n",
       "    }\n",
       "\n",
       "    .dataframe thead th {\n",
       "        text-align: right;\n",
       "    }\n",
       "</style>\n",
       "<table border=\"1\" class=\"dataframe\">\n",
       "  <thead>\n",
       "    <tr style=\"text-align: right;\">\n",
       "      <th></th>\n",
       "      <th>Amount</th>\n",
       "      <th>Profit</th>\n",
       "      <th>Quantity</th>\n",
       "    </tr>\n",
       "  </thead>\n",
       "  <tbody>\n",
       "    <tr>\n",
       "      <th>count</th>\n",
       "      <td>1194.000000</td>\n",
       "      <td>1194.000000</td>\n",
       "      <td>1194.000000</td>\n",
       "    </tr>\n",
       "    <tr>\n",
       "      <th>mean</th>\n",
       "      <td>5178.089615</td>\n",
       "      <td>1348.992462</td>\n",
       "      <td>10.674204</td>\n",
       "    </tr>\n",
       "    <tr>\n",
       "      <th>std</th>\n",
       "      <td>2804.921955</td>\n",
       "      <td>1117.992573</td>\n",
       "      <td>5.777102</td>\n",
       "    </tr>\n",
       "    <tr>\n",
       "      <th>min</th>\n",
       "      <td>508.000000</td>\n",
       "      <td>50.000000</td>\n",
       "      <td>1.000000</td>\n",
       "    </tr>\n",
       "    <tr>\n",
       "      <th>25%</th>\n",
       "      <td>2799.000000</td>\n",
       "      <td>410.000000</td>\n",
       "      <td>6.000000</td>\n",
       "    </tr>\n",
       "    <tr>\n",
       "      <th>50%</th>\n",
       "      <td>5152.000000</td>\n",
       "      <td>1014.000000</td>\n",
       "      <td>11.000000</td>\n",
       "    </tr>\n",
       "    <tr>\n",
       "      <th>75%</th>\n",
       "      <td>7626.000000</td>\n",
       "      <td>2035.000000</td>\n",
       "      <td>16.000000</td>\n",
       "    </tr>\n",
       "    <tr>\n",
       "      <th>max</th>\n",
       "      <td>9992.000000</td>\n",
       "      <td>4930.000000</td>\n",
       "      <td>20.000000</td>\n",
       "    </tr>\n",
       "  </tbody>\n",
       "</table>\n",
       "</div>"
      ],
      "text/plain": [
       "            Amount       Profit     Quantity\n",
       "count  1194.000000  1194.000000  1194.000000\n",
       "mean   5178.089615  1348.992462    10.674204\n",
       "std    2804.921955  1117.992573     5.777102\n",
       "min     508.000000    50.000000     1.000000\n",
       "25%    2799.000000   410.000000     6.000000\n",
       "50%    5152.000000  1014.000000    11.000000\n",
       "75%    7626.000000  2035.000000    16.000000\n",
       "max    9992.000000  4930.000000    20.000000"
      ]
     },
     "execution_count": 8,
     "metadata": {},
     "output_type": "execute_result"
    }
   ],
   "source": [
    "# Estadisticas basicas\n",
    "sales_df.describe()"
   ]
  },
  {
   "cell_type": "code",
   "execution_count": 9,
   "id": "c48e2dae",
   "metadata": {},
   "outputs": [
    {
     "data": {
      "application/vnd.microsoft.datawrangler.viewer.v0+json": {
       "columns": [
        {
         "name": "index",
         "rawType": "object",
         "type": "string"
        },
        {
         "name": "0",
         "rawType": "int64",
         "type": "integer"
        }
       ],
       "ref": "b90b973f-624e-4154-bc0d-bf4c9a13b866",
       "rows": [
        [
         "Order ID",
         "0"
        ],
        [
         "Amount",
         "0"
        ],
        [
         "Profit",
         "0"
        ],
        [
         "Quantity",
         "0"
        ],
        [
         "Category",
         "0"
        ],
        [
         "Sub-Category",
         "0"
        ],
        [
         "PaymentMode",
         "0"
        ],
        [
         "Order Date",
         "0"
        ],
        [
         "CustomerName",
         "0"
        ],
        [
         "State",
         "0"
        ],
        [
         "City",
         "0"
        ],
        [
         "Year-Month",
         "0"
        ]
       ],
       "shape": {
        "columns": 1,
        "rows": 12
       }
      },
      "text/plain": [
       "Order ID        0\n",
       "Amount          0\n",
       "Profit          0\n",
       "Quantity        0\n",
       "Category        0\n",
       "Sub-Category    0\n",
       "PaymentMode     0\n",
       "Order Date      0\n",
       "CustomerName    0\n",
       "State           0\n",
       "City            0\n",
       "Year-Month      0\n",
       "dtype: int64"
      ]
     },
     "execution_count": 9,
     "metadata": {},
     "output_type": "execute_result"
    }
   ],
   "source": [
    "# Verificamos si hay valores nulos\n",
    "sales_df.isnull().sum()"
   ]
  },
  {
   "cell_type": "code",
   "execution_count": 10,
   "id": "ec62b3d7",
   "metadata": {},
   "outputs": [
    {
     "name": "stdout",
     "output_type": "stream",
     "text": [
      "<class 'pandas.core.frame.DataFrame'>\n",
      "RangeIndex: 1194 entries, 0 to 1193\n",
      "Data columns (total 14 columns):\n",
      " #   Column        Non-Null Count  Dtype         \n",
      "---  ------        --------------  -----         \n",
      " 0   Order ID      1194 non-null   object        \n",
      " 1   Amount        1194 non-null   int64         \n",
      " 2   Profit        1194 non-null   int64         \n",
      " 3   Quantity      1194 non-null   int64         \n",
      " 4   Category      1194 non-null   category      \n",
      " 5   Sub-Category  1194 non-null   category      \n",
      " 6   PaymentMode   1194 non-null   category      \n",
      " 7   Order Date    1194 non-null   datetime64[ns]\n",
      " 8   CustomerName  1194 non-null   object        \n",
      " 9   State         1194 non-null   category      \n",
      " 10  City          1194 non-null   category      \n",
      " 11  Year-Month    1194 non-null   datetime64[ns]\n",
      " 12  Year          1194 non-null   int32         \n",
      " 13  Month         1194 non-null   int32         \n",
      "dtypes: category(5), datetime64[ns](2), int32(2), int64(3), object(2)\n",
      "memory usage: 82.2+ KB\n"
     ]
    }
   ],
   "source": [
    "# Casteo de columnas\n",
    "# Convertimos las columnas categoricas a tipo 'category'\n",
    "columnas = ['Category', 'Sub-Category', 'City', 'PaymentMode', 'State', ]\n",
    "\n",
    "for cof in columnas:\n",
    "    sales_df[cof] = sales_df[cof].astype('category')\n",
    "    \n",
    "# Convertimos la columna 'Order Date' y 'Year-Month' a tipo 'datetime'\n",
    "sales_df['Order Date'] = pd.to_datetime(sales_df['Order Date'])\n",
    "sales_df['Year-Month'] = pd.to_datetime(sales_df['Year-Month'], format='%Y-%m')\n",
    "\n",
    "# Creamos la columa \"Year\" y \"Month\" a partir de la columna \"Order Date\" (Para poder graficar)\n",
    "sales_df['Year'] = sales_df['Order Date'].dt.year\n",
    "sales_df['Month'] = sales_df['Order Date'].dt.month\n",
    "\n",
    "sales_df.info()"
   ]
  },
  {
   "cell_type": "markdown",
   "id": "e0107a53",
   "metadata": {},
   "source": [
    "### 4. Analisis de datos\n",
    "4.1. Analisis de ventas"
   ]
  },
  {
   "cell_type": "code",
   "execution_count": 11,
   "id": "afe55729",
   "metadata": {},
   "outputs": [
    {
     "name": "stdout",
     "output_type": "stream",
     "text": [
      "Ventas totales:  6182639\n",
      "Ganancias totales:  1610697\n",
      "Venta promedio por orden:  5178.089614740368\n"
     ]
    }
   ],
   "source": [
    "# Ventas totales\n",
    "print('Ventas totales: ', sales_df['Amount'].sum())\n",
    "\n",
    "# Beneficio total\n",
    "print(\"Ganancias totales: \", sales_df['Profit'].sum())\n",
    "\n",
    "# Venta promedio por orden\n",
    "print(\"Venta promedio por orden: \", sales_df['Amount'].mean())"
   ]
  },
  {
   "cell_type": "markdown",
   "id": "037985ed",
   "metadata": {},
   "source": [
    "4.2. Analisis de ventas por categoría"
   ]
  },
  {
   "cell_type": "code",
   "execution_count": 32,
   "id": "48b0f91c",
   "metadata": {},
   "outputs": [
    {
     "name": "stdout",
     "output_type": "stream",
     "text": [
      "Categoria que mas vende:  Category\n",
      "Office Supplies    2089510\n",
      "Electronics        2054456\n",
      "Furniture          2038673\n",
      "Name: Amount, dtype: int64\n"
     ]
    },
    {
     "data": {
      "image/png": "[encoded data removed]",
      "text/plain": [
       "<Figure size 1000x600 with 1 Axes>"
      ]
     },
     "metadata": {},
     "output_type": "display_data"
    }
   ],
   "source": [
    "# categoria que mas vende\n",
    "print(\"Categoria que mas vende: \", sales_df.groupby('Category', observed=False)['Amount'].sum().sort_values(ascending=False))\n",
    "\n",
    "# Grafico de ventas por categoria\n",
    "plt.ticklabel_format(style='plain', axis='y')\n",
    "ax = sns.barplot(x='Category', y='Amount', data=sales_df, estimator=sum, hue='Category', errorbar=None)\n",
    "\n",
    "# Titulos y etiquetas\n",
    "plt.title('Ventas por Categoria')\n",
    "plt.xlabel('Categoria')\n",
    "plt.ylabel('Cantidad de ventas')\n",
    "\n",
    "for p in ax.patches:\n",
    "    height = p.get_height()\n",
    "    ax.annotate(f'$ {height:,.0f}',             # formato sin decimales y con separador de miles\n",
    "                (p.get_x() + p.get_width() / 2, height),  # posición (x, y)\n",
    "                ha='center', va='bottom',     # alineación horizontal y vertical\n",
    "                fontsize=9, fontweight='bold')\n",
    "\n",
    "# Mostrar el grafico\n",
    "plt.show()"
   ]
  },
  {
   "cell_type": "code",
   "execution_count": 31,
   "id": "6bda9f30",
   "metadata": {},
   "outputs": [
    {
     "name": "stdout",
     "output_type": "stream",
     "text": [
      "Sub categoria que mas vende:  Sub-Category\n",
      "Markers             627875\n",
      "Tables              625177\n",
      "Sofas               568367\n",
      "Printers            566359\n",
      "Electronic Games    565092\n",
      "Pens                552269\n",
      "Paper               524755\n",
      "Phones              503055\n",
      "Chairs              431964\n",
      "Laptops             419950\n",
      "Bookcases           413165\n",
      "Binders             384611\n",
      "Name: Amount, dtype: int64\n"
     ]
    },
    {
     "data": {
      "image/png": "[encoded data removed]",
      "text/plain": [
       "<Figure size 1200x600 with 1 Axes>"
      ]
     },
     "metadata": {},
     "output_type": "display_data"
    }
   ],
   "source": [
    "# Sub categorias que mas venden\n",
    "print(\"Sub categoria que mas vende: \", sales_df.groupby('Sub-Category', observed=False)['Amount'].sum().sort_values(ascending=False))\n",
    "\n",
    "# Grafico de ventas por sub categoria\n",
    "plt.figure(figsize=(12, 6))\n",
    "ax = sns.barplot(x='Sub-Category', y='Amount', data=sales_df, estimator=sum, hue='Category', errorbar=None)\n",
    "\n",
    "# Titulos y etiquetas\n",
    "plt.title('Ventas por Sub-Categoria')\n",
    "plt.xlabel('Sub-Categoria')\n",
    "plt.ylabel('Ventas')\n",
    "plt.xticks(rotation=45)\n",
    "plt.legend(title='Categoria')\n",
    "\n",
    "for p in ax.patches:\n",
    "    height = p.get_height()\n",
    "    if height > 0:  # Evita anotar barras invisibles si las hay\n",
    "        ax.annotate(f'$ {height:,.0f}', \n",
    "                    (p.get_x() + p.get_width() / 2, height),\n",
    "                    ha='center', va='bottom',\n",
    "                    fontsize=8, fontweight='bold')\n",
    "\n",
    "# Mostrar el grafico\n",
    "plt.show()"
   ]
  },
  {
   "cell_type": "code",
   "execution_count": 30,
   "id": "14518639",
   "metadata": {},
   "outputs": [
    {
     "name": "stdout",
     "output_type": "stream",
     "text": [
      "Metodo de pago que mas se usa:  PaymentMode\n",
      "Debit Card     1395035\n",
      "Credit Card    1281044\n",
      "UPI            1250473\n",
      "COD            1141790\n",
      "EMI            1114297\n",
      "Name: Amount, dtype: int64\n"
     ]
    },
    {
     "data": {
      "image/png": "[encoded data removed]",
      "text/plain": [
       "<Figure size 1000x600 with 1 Axes>"
      ]
     },
     "metadata": {},
     "output_type": "display_data"
    }
   ],
   "source": [
    "# Metodo de pago que mas ganancias genera\n",
    "print(\"Metodo de pago que mas se usa: \", sales_df.groupby('PaymentMode', observed=False)['Amount'].sum().sort_values(ascending=False))\n",
    "\n",
    "# Grafico de metodo de pago\n",
    "plt.figure(figsize=(10, 6))\n",
    "ax = sns.barplot(x='PaymentMode', y=\"Amount\", data=sales_df, hue='PaymentMode', errorbar=None)\n",
    "\n",
    "# Titulos y etiquetas\n",
    "plt.title('Pago de ventas')\n",
    "plt.xlabel('Metodo de pago')\n",
    "plt.ylabel('Cantidad de ventas')\n",
    "\n",
    "for p in ax.patches:\n",
    "    height = p.get_height()\n",
    "    if height > 0:  # Evita anotar barras invisibles si las hay\n",
    "        ax.annotate(f'$ {height:,.0f}', \n",
    "                    (p.get_x() + p.get_width() / 2, height),\n",
    "                    ha='center', va='bottom',\n",
    "                    fontsize=8, fontweight='bold')\n",
    "\n",
    "\n",
    "# Mostrar el grafico\n",
    "plt.show()"
   ]
  },
  {
   "cell_type": "markdown",
   "id": "4d5cf190",
   "metadata": {},
   "source": [
    "4.3. Analisis de ventas temporal"
   ]
  },
  {
   "cell_type": "code",
   "execution_count": 15,
   "id": "d8dc8175",
   "metadata": {},
   "outputs": [
    {
     "name": "stdout",
     "output_type": "stream",
     "text": [
      "Ventas por año:  Year\n",
      "2022    1459775\n",
      "2023    1229723\n",
      "2024    1202478\n",
      "2021    1181446\n",
      "2020     859401\n",
      "2025     249816\n",
      "Name: Amount, dtype: int64\n"
     ]
    },
    {
     "data": {
      "image/png": "[encoded data removed]",
      "text/plain": [
       "<Figure size 1000x600 with 1 Axes>"
      ]
     },
     "metadata": {},
     "output_type": "display_data"
    }
   ],
   "source": [
    "# Ventas por año\n",
    "print(\"Ventas por año: \", sales_df.groupby('Year', observed=False)['Amount'].sum().sort_values(ascending=False))\n",
    "\n",
    "# Grafico de tendencia\n",
    "plt.figure(figsize=(10, 6))\n",
    "plt.ticklabel_format(style='plain', axis='y')\n",
    "sns.lineplot(x='Year-Month', y='Amount', data=sales_df, estimator=sum, errorbar=None)\n",
    "\n",
    "# Titulos y etiquetas\n",
    "plt.title('Ventas por año')\n",
    "plt.xlabel('Año')\n",
    "plt.ylabel('Ventas')\n",
    "\n",
    "# Mostrar el grafico\n",
    "plt.show()"
   ]
  },
  {
   "cell_type": "markdown",
   "id": "fce888bc",
   "metadata": {},
   "source": [
    "4.4. Análisis de ventas por geografia"
   ]
  },
  {
   "cell_type": "code",
   "execution_count": 16,
   "id": "fedccdbf",
   "metadata": {},
   "outputs": [
    {
     "name": "stdout",
     "output_type": "stream",
     "text": [
      "Ventas por estado:  State\n",
      "New York      1130048\n",
      "Florida       1091174\n",
      "California    1086436\n",
      "Texas         1011475\n",
      "Illinois       978738\n",
      "Ohio           884768\n",
      "Name: Amount, dtype: int64\n"
     ]
    },
    {
     "data": {
      "image/png": "[encoded data removed]",
      "text/plain": [
       "<Figure size 1000x600 with 1 Axes>"
      ]
     },
     "metadata": {},
     "output_type": "display_data"
    }
   ],
   "source": [
    "# Ventas por estado\n",
    "print(\"Ventas por estado: \", sales_df.groupby('State', observed=False)['Amount'].sum().sort_values(ascending=False))\n",
    "\n",
    "# Grafico de ventas por estado\n",
    "sns.barplot(x='State', y='Amount', data=sales_df, estimator=sum, hue='Category', errorbar=None)\n",
    "\n",
    "# Titulos y etiquetas\n",
    "plt.title('Ventas por estado')\n",
    "plt.xlabel('Estado')\n",
    "plt.ylabel('Ventas')\n",
    "\n",
    "# Mostrar el grafico\n",
    "plt.show()\n"
   ]
  },
  {
   "cell_type": "code",
   "execution_count": 17,
   "id": "f8f82b40",
   "metadata": {},
   "outputs": [
    {
     "data": {
      "application/vnd.plotly.v1+json": {
       "config": {
        "plotlyServerURL": "https://plot.ly"
       },
       "data": [
        {
         "coloraxis": "coloraxis",
         "geo": "geo",
         "hovertemplate": "State_abbrev=%{location}<br>Ventas=%{z}<extra></extra>",
         "locationmode": "USA-states",
         "locations": [
          "CA",
          "FL",
          "IL",
          "NY",
          "OH",
          "TX"
         ],
         "name": "",
         "type": "choropleth",
         "z": {
          "bdata": "5JMQAGamEAAy7w4AQD4RACCADQATbw8A",
          "dtype": "i4"
         }
        }
       ],
       "layout": {
        "coloraxis": {
         "colorbar": {
          "title": {
           "text": "Ventas"
          }
         },
         "colorscale": [
          [
           0,
           "rgb(247,251,255)"
          ],
          [
           0.125,
           "rgb(222,235,247)"
          ],
          [
           0.25,
           "rgb(198,219,239)"
          ],
          [
           0.375,
           "rgb(158,202,225)"
          ],
          [
           0.5,
           "rgb(107,174,214)"
          ],
          [
           0.625,
           "rgb(66,146,198)"
          ],
          [
           0.75,
           "rgb(33,113,181)"
          ],
          [
           0.875,
           "rgb(8,81,156)"
          ],
          [
           1,
           "rgb(8,48,107)"
          ]
         ]
        },
        "geo": {
         "center": {},
         "domain": {
          "x": [
           0,
           1
          ],
          "y": [
           0,
           1
          ]
         },
         "scope": "usa"
        },
        "legend": {
         "tracegroupgap": 0
        },
        "template": {
         "data": {
          "bar": [
           {
            "error_x": {
             "color": "#2a3f5f"
            },
            "error_y": {
             "color": "#2a3f5f"
            },
            "marker": {
             "line": {
              "color": "#E5ECF6",
              "width": 0.5
             },
             "pattern": {
              "fillmode": "overlay",
              "size": 10,
              "solidity": 0.2
             }
            },
            "type": "bar"
           }
          ],
          "barpolar": [
           {
            "marker": {
             "line": {
              "color": "#E5ECF6",
              "width": 0.5
             },
             "pattern": {
              "fillmode": "overlay",
              "size": 10,
              "solidity": 0.2
             }
            },
            "type": "barpolar"
           }
          ],
          "carpet": [
           {
            "aaxis": {
             "endlinecolor": "#2a3f5f",
             "gridcolor": "white",
             "linecolor": "white",
             "minorgridcolor": "white",
             "startlinecolor": "#2a3f5f"
            },
            "baxis": {
             "endlinecolor": "#2a3f5f",
             "gridcolor": "white",
             "linecolor": "white",
             "minorgridcolor": "white",
             "startlinecolor": "#2a3f5f"
            },
            "type": "carpet"
           }
          ],
          "choropleth": [
           {
            "colorbar": {
             "outlinewidth": 0,
             "ticks": ""
            },
            "type": "choropleth"
           }
          ],
          "contour": [
           {
            "colorbar": {
             "outlinewidth": 0,
             "ticks": ""
            },
            "colorscale": [
             [
              0,
              "#0d0887"
             ],
             [
              0.1111111111111111,
              "#46039f"
             ],
             [
              0.2222222222222222,
              "#7201a8"
             ],
             [
              0.3333333333333333,
              "#9c179e"
             ],
             [
              0.4444444444444444,
              "#bd3786"
             ],
             [
              0.5555555555555556,
              "#d8576b"
             ],
             [
              0.6666666666666666,
              "#ed7953"
             ],
             [
              0.7777777777777778,
              "#fb9f3a"
             ],
             [
              0.8888888888888888,
              "#fdca26"
             ],
             [
              1,
              "#f0f921"
             ]
            ],
            "type": "contour"
           }
          ],
          "contourcarpet": [
           {
            "colorbar": {
             "outlinewidth": 0,
             "ticks": ""
            },
            "type": "contourcarpet"
           }
          ],
          "heatmap": [
           {
            "colorbar": {
             "outlinewidth": 0,
             "ticks": ""
            },
            "colorscale": [
             [
              0,
              "#0d0887"
             ],
             [
              0.1111111111111111,
              "#46039f"
             ],
             [
              0.2222222222222222,
              "#7201a8"
             ],
             [
              0.3333333333333333,
              "#9c179e"
             ],
             [
              0.4444444444444444,
              "#bd3786"
             ],
             [
              0.5555555555555556,
              "#d8576b"
             ],
             [
              0.6666666666666666,
              "#ed7953"
             ],
             [
              0.7777777777777778,
              "#fb9f3a"
             ],
             [
              0.8888888888888888,
              "#fdca26"
             ],
             [
              1,
              "#f0f921"
             ]
            ],
            "type": "heatmap"
           }
          ],
          "histogram": [
           {
            "marker": {
             "pattern": {
              "fillmode": "overlay",
              "size": 10,
              "solidity": 0.2
             }
            },
            "type": "histogram"
           }
          ],
          "histogram2d": [
           {
            "colorbar": {
             "outlinewidth": 0,
             "ticks": ""
            },
            "colorscale": [
             [
              0,
              "#0d0887"
             ],
             [
              0.1111111111111111,
              "#46039f"
             ],
             [
              0.2222222222222222,
              "#7201a8"
             ],
             [
              0.3333333333333333,
              "#9c179e"
             ],
             [
              0.4444444444444444,
              "#bd3786"
             ],
             [
              0.5555555555555556,
              "#d8576b"
             ],
             [
              0.6666666666666666,
              "#ed7953"
             ],
             [
              0.7777777777777778,
              "#fb9f3a"
             ],
             [
              0.8888888888888888,
              "#fdca26"
             ],
             [
              1,
              "#f0f921"
             ]
            ],
            "type": "histogram2d"
           }
          ],
          "histogram2dcontour": [
           {
            "colorbar": {
             "outlinewidth": 0,
             "ticks": ""
            },
            "colorscale": [
             [
              0,
              "#0d0887"
             ],
             [
              0.1111111111111111,
              "#46039f"
             ],
             [
              0.2222222222222222,
              "#7201a8"
             ],
             [
              0.3333333333333333,
              "#9c179e"
             ],
             [
              0.4444444444444444,
              "#bd3786"
             ],
             [
              0.5555555555555556,
              "#d8576b"
             ],
             [
              0.6666666666666666,
              "#ed7953"
             ],
             [
              0.7777777777777778,
              "#fb9f3a"
             ],
             [
              0.8888888888888888,
              "#fdca26"
             ],
             [
              1,
              "#f0f921"
             ]
            ],
            "type": "histogram2dcontour"
           }
          ],
          "mesh3d": [
           {
            "colorbar": {
             "outlinewidth": 0,
             "ticks": ""
            },
            "type": "mesh3d"
           }
          ],
          "parcoords": [
           {
            "line": {
             "colorbar": {
              "outlinewidth": 0,
              "ticks": ""
             }
            },
            "type": "parcoords"
           }
          ],
          "pie": [
           {
            "automargin": true,
            "type": "pie"
           }
          ],
          "scatter": [
           {
            "fillpattern": {
             "fillmode": "overlay",
             "size": 10,
             "solidity": 0.2
            },
            "type": "scatter"
           }
          ],
          "scatter3d": [
           {
            "line": {
             "colorbar": {
              "outlinewidth": 0,
              "ticks": ""
             }
            },
            "marker": {
             "colorbar": {
              "outlinewidth": 0,
              "ticks": ""
             }
            },
            "type": "scatter3d"
           }
          ],
          "scattercarpet": [
           {
            "marker": {
             "colorbar": {
              "outlinewidth": 0,
              "ticks": ""
             }
            },
            "type": "scattercarpet"
           }
          ],
          "scattergeo": [
           {
            "marker": {
             "colorbar": {
              "outlinewidth": 0,
              "ticks": ""
             }
            },
            "type": "scattergeo"
           }
          ],
          "scattergl": [
           {
            "marker": {
             "colorbar": {
              "outlinewidth": 0,
              "ticks": ""
             }
            },
            "type": "scattergl"
           }
          ],
          "scattermap": [
           {
            "marker": {
             "colorbar": {
              "outlinewidth": 0,
              "ticks": ""
             }
            },
            "type": "scattermap"
           }
          ],
          "scattermapbox": [
           {
            "marker": {
             "colorbar": {
              "outlinewidth": 0,
              "ticks": ""
             }
            },
            "type": "scattermapbox"
           }
          ],
          "scatterpolar": [
           {
            "marker": {
             "colorbar": {
              "outlinewidth": 0,
              "ticks": ""
             }
            },
            "type": "scatterpolar"
           }
          ],
          "scatterpolargl": [
           {
            "marker": {
             "colorbar": {
              "outlinewidth": 0,
              "ticks": ""
             }
            },
            "type": "scatterpolargl"
           }
          ],
          "scatterternary": [
           {
            "marker": {
             "colorbar": {
              "outlinewidth": 0,
              "ticks": ""
             }
            },
            "type": "scatterternary"
           }
          ],
          "surface": [
           {
            "colorbar": {
             "outlinewidth": 0,
             "ticks": ""
            },
            "colorscale": [
             [
              0,
              "#0d0887"
             ],
             [
              0.1111111111111111,
              "#46039f"
             ],
             [
              0.2222222222222222,
              "#7201a8"
             ],
             [
              0.3333333333333333,
              "#9c179e"
             ],
             [
              0.4444444444444444,
              "#bd3786"
             ],
             [
              0.5555555555555556,
              "#d8576b"
             ],
             [
              0.6666666666666666,
              "#ed7953"
             ],
             [
              0.7777777777777778,
              "#fb9f3a"
             ],
             [
              0.8888888888888888,
              "#fdca26"
             ],
             [
              1,
              "#f0f921"
             ]
            ],
            "type": "surface"
           }
          ],
          "table": [
           {
            "cells": {
             "fill": {
              "color": "#EBF0F8"
             },
             "line": {
              "color": "white"
             }
            },
            "header": {
             "fill": {
              "color": "#C8D4E3"
             },
             "line": {
              "color": "white"
             }
            },
            "type": "table"
           }
          ]
         },
         "layout": {
          "annotationdefaults": {
           "arrowcolor": "#2a3f5f",
           "arrowhead": 0,
           "arrowwidth": 1
          },
          "autotypenumbers": "strict",
          "coloraxis": {
           "colorbar": {
            "outlinewidth": 0,
            "ticks": ""
           }
          },
          "colorscale": {
           "diverging": [
            [
             0,
             "#8e0152"
            ],
            [
             0.1,
             "#c51b7d"
            ],
            [
             0.2,
             "#de77ae"
            ],
            [
             0.3,
             "#f1b6da"
            ],
            [
             0.4,
             "#fde0ef"
            ],
            [
             0.5,
             "#f7f7f7"
            ],
            [
             0.6,
             "#e6f5d0"
            ],
            [
             0.7,
             "#b8e186"
            ],
            [
             0.8,
             "#7fbc41"
            ],
            [
             0.9,
             "#4d9221"
            ],
            [
             1,
             "#276419"
            ]
           ],
           "sequential": [
            [
             0,
             "#0d0887"
            ],
            [
             0.1111111111111111,
             "#46039f"
            ],
            [
             0.2222222222222222,
             "#7201a8"
            ],
            [
             0.3333333333333333,
             "#9c179e"
            ],
            [
             0.4444444444444444,
             "#bd3786"
            ],
            [
             0.5555555555555556,
             "#d8576b"
            ],
            [
             0.6666666666666666,
             "#ed7953"
            ],
            [
             0.7777777777777778,
             "#fb9f3a"
            ],
            [
             0.8888888888888888,
             "#fdca26"
            ],
            [
             1,
             "#f0f921"
            ]
           ],
           "sequentialminus": [
            [
             0,
             "#0d0887"
            ],
            [
             0.1111111111111111,
             "#46039f"
            ],
            [
             0.2222222222222222,
             "#7201a8"
            ],
            [
             0.3333333333333333,
             "#9c179e"
            ],
            [
             0.4444444444444444,
             "#bd3786"
            ],
            [
             0.5555555555555556,
             "#d8576b"
            ],
            [
             0.6666666666666666,
             "#ed7953"
            ],
            [
             0.7777777777777778,
             "#fb9f3a"
            ],
            [
             0.8888888888888888,
             "#fdca26"
            ],
            [
             1,
             "#f0f921"
            ]
           ]
          },
          "colorway": [
           "#636efa",
           "#EF553B",
           "#00cc96",
           "#ab63fa",
           "#FFA15A",
           "#19d3f3",
           "#FF6692",
           "#B6E880",
           "#FF97FF",
           "#FECB52"
          ],
          "font": {
           "color": "#2a3f5f"
          },
          "geo": {
           "bgcolor": "white",
           "lakecolor": "white",
           "landcolor": "#E5ECF6",
           "showlakes": true,
           "showland": true,
           "subunitcolor": "white"
          },
          "hoverlabel": {
           "align": "left"
          },
          "hovermode": "closest",
          "mapbox": {
           "style": "light"
          },
          "paper_bgcolor": "white",
          "plot_bgcolor": "#E5ECF6",
          "polar": {
           "angularaxis": {
            "gridcolor": "white",
            "linecolor": "white",
            "ticks": ""
           },
           "bgcolor": "#E5ECF6",
           "radialaxis": {
            "gridcolor": "white",
            "linecolor": "white",
            "ticks": ""
           }
          },
          "scene": {
           "xaxis": {
            "backgroundcolor": "#E5ECF6",
            "gridcolor": "white",
            "gridwidth": 2,
            "linecolor": "white",
            "showbackground": true,
            "ticks": "",
            "zerolinecolor": "white"
           },
           "yaxis": {
            "backgroundcolor": "#E5ECF6",
            "gridcolor": "white",
            "gridwidth": 2,
            "linecolor": "white",
            "showbackground": true,
            "ticks": "",
            "zerolinecolor": "white"
           },
           "zaxis": {
            "backgroundcolor": "#E5ECF6",
            "gridcolor": "white",
            "gridwidth": 2,
            "linecolor": "white",
            "showbackground": true,
            "ticks": "",
            "zerolinecolor": "white"
           }
          },
          "shapedefaults": {
           "line": {
            "color": "#2a3f5f"
           }
          },
          "ternary": {
           "aaxis": {
            "gridcolor": "white",
            "linecolor": "white",
            "ticks": ""
           },
           "baxis": {
            "gridcolor": "white",
            "linecolor": "white",
            "ticks": ""
           },
           "bgcolor": "#E5ECF6",
           "caxis": {
            "gridcolor": "white",
            "linecolor": "white",
            "ticks": ""
           }
          },
          "title": {
           "x": 0.05
          },
          "xaxis": {
           "automargin": true,
           "gridcolor": "white",
           "linecolor": "white",
           "ticks": "",
           "title": {
            "standoff": 15
           },
           "zerolinecolor": "white",
           "zerolinewidth": 2
          },
          "yaxis": {
           "automargin": true,
           "gridcolor": "white",
           "linecolor": "white",
           "ticks": "",
           "title": {
            "standoff": 15
           },
           "zerolinecolor": "white",
           "zerolinewidth": 2
          }
         }
        },
        "title": {
         "text": "Mapa de Calor de Ventas por Estado (EE.UU.)"
        }
       }
      }
     },
     "metadata": {},
     "output_type": "display_data"
    }
   ],
   "source": [
    "# Mapa de calor de ventas por estado\n",
    "\n",
    "# Abreviaciones de los estados de EE.UU.\n",
    "us_state_abbrev = {\n",
    "    'Alabama': 'AL', 'Alaska': 'AK', 'Arizona': 'AZ', 'Arkansas': 'AR',\n",
    "    'California': 'CA', 'Colorado': 'CO', 'Connecticut': 'CT', 'Delaware': 'DE',\n",
    "    'Florida': 'FL', 'Georgia': 'GA', 'Hawaii': 'HI', 'Idaho': 'ID',\n",
    "    'Illinois': 'IL', 'Indiana': 'IN', 'Iowa': 'IA', 'Kansas': 'KS',\n",
    "    'Kentucky': 'KY', 'Louisiana': 'LA', 'Maine': 'ME', 'Maryland': 'MD',\n",
    "    'Massachusetts': 'MA', 'Michigan': 'MI', 'Minnesota': 'MN', 'Mississippi': 'MS',\n",
    "    'Missouri': 'MO', 'Montana': 'MT', 'Nebraska': 'NE', 'Nevada': 'NV',\n",
    "    'New Hampshire': 'NH', 'New Jersey': 'NJ', 'New Mexico': 'NM', 'New York': 'NY',\n",
    "    'North Carolina': 'NC', 'North Dakota': 'ND', 'Ohio': 'OH', 'Oklahoma': 'OK',\n",
    "    'Oregon': 'OR', 'Pennsylvania': 'PA', 'Rhode Island': 'RI', 'South Carolina': 'SC',\n",
    "    'South Dakota': 'SD', 'Tennessee': 'TN', 'Texas': 'TX', 'Utah': 'UT',\n",
    "    'Vermont': 'VT', 'Virginia': 'VA', 'Washington': 'WA', 'West Virginia': 'WV',\n",
    "    'Wisconsin': 'WI', 'Wyoming': 'WY'\n",
    "}\n",
    "\n",
    "# Agrgamos la columna de abreviaciones de los estados al DataFrame\n",
    "sales_df['State_abbrev'] = sales_df['State'].map(us_state_abbrev)\n",
    "\n",
    "# Agrupar por abreviaciones\n",
    "ventas_estado = sales_df.groupby(\"State_abbrev\", observed=False)[\"Amount\"].sum().reset_index() \n",
    "\n",
    "# Crear el mapa de calor\n",
    "fig = px.choropleth(\n",
    "    ventas_estado,\n",
    "    locations=\"State_abbrev\",\n",
    "    locationmode=\"USA-states\",  # Esto usa las abreviaciones oficiales (CA, TX, etc.)\n",
    "    color=\"Amount\",\n",
    "    color_continuous_scale=\"Blues\",\n",
    "    scope=\"usa\",\n",
    "    labels={'Amount': 'Ventas'},\n",
    "    title=\"Mapa de Calor de Ventas por Estado (EE.UU.)\"\n",
    ")\n",
    "\n",
    "fig.show()"
   ]
  },
  {
   "cell_type": "code",
   "execution_count": null,
   "id": "50f78fbb",
   "metadata": {},
   "outputs": [
    {
     "name": "stdout",
     "output_type": "stream",
     "text": [
      "Top 5 clientes que mas compran:             CustomerName  Amount\n",
      "163          Cory Evans   28557\n",
      "234       Emily Ellison   27352\n",
      "256       George Foster   27352\n",
      "584   Nicholas Anderson   27352\n",
      "400  Katherine Williams   25121\n"
     ]
    },
    {
     "data": {
      "image/png": "[encoded data removed]",
      "text/plain": [
       "<Figure size 1000x600 with 1 Axes>"
      ]
     },
     "metadata": {},
     "output_type": "display_data"
    }
   ],
   "source": [
    "# Top 5 clientes que mas compran\n",
    "# Agrupamos por cliente y sumamos las ventas\n",
    "top_clientes = sales_df.groupby(\"CustomerName\", observed=False)[\"Amount\"].sum().reset_index().sort_values(by=\"Amount\", ascending=False).head(5)\n",
    "\n",
    "print(\"Top 5 clientes que mas compran: \", top_clientes)\n",
    "\n",
    "# Creamos una gráfica de barras con el top 5 clientes\n",
    "ax = sns.barplot(x='CustomerName', y='Amount', data=top_clientes, estimator=sum, errorbar=None, hue='CustomerName')\n",
    "\n",
    "# Titulos y etiquetas\n",
    "plt.title(\"Top 5 Clientes que mas compran\")\n",
    "plt.xlabel(\"Cliente\")\n",
    "plt.ylabel(\"Ventas\")\n",
    "\n",
    "for p in ax.patches:\n",
    "    ax.annotate(f'$ {p.get_height():,.0f}', (p.get_x() + p.get_width() / 2., p.get_height()), ha='center', va='center', fontsize=10, color='black', xytext=(0, 5), textcoords='offset points')  \n",
    "\n",
    "# Graficamos\n",
    "plt.show()\n"
   ]
  }
 ],
 "metadata": {
  "kernelspec": {
   "display_name": "Python 3",
   "language": "python",
   "name": "python3"
  },
  "language_info": {
   "codemirror_mode": {
    "name": "ipython",
    "version": 3
   },
   "file_extension": ".py",
   "mimetype": "text/x-python",
   "name": "python",
   "nbconvert_exporter": "python",
   "pygments_lexer": "ipython3",
   "version": "3.12.10"
  }
 },
 "nbformat": 4,
 "nbformat_minor": 5
}
